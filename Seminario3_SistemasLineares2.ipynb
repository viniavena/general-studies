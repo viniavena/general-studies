{
  "nbformat": 4,
  "nbformat_minor": 0,
  "metadata": {
    "colab": {
      "name": "Seminario3_SistemasLineares2.ipynb",
      "provenance": [],
      "toc_visible": true,
      "authorship_tag": "ABX9TyPYjRQsH9C+qm/vqWV39TvZ",
      "include_colab_link": true
    },
    "kernelspec": {
      "name": "python3",
      "display_name": "Python 3"
    },
    "language_info": {
      "name": "python"
    }
  },
  "cells": [
    {
      "cell_type": "markdown",
      "metadata": {
        "id": "view-in-github",
        "colab_type": "text"
      },
      "source": [
        "<a href=\"https://colab.research.google.com/github/viniavena/general-studies/blob/main/Seminario3_SistemasLineares2.ipynb\" target=\"_parent\"><img src=\"https://colab.research.google.com/assets/colab-badge.svg\" alt=\"Open In Colab\"/></a>"
      ]
    },
    {
      "cell_type": "markdown",
      "metadata": {
        "id": "xhTFR8jDHLjS"
      },
      "source": [
        "\n",
        "# Introdução"
      ]
    },
    {
      "cell_type": "markdown",
      "metadata": {
        "id": "l71CtN_9kysn"
      },
      "source": [
        "Notebook criado por Vinicius de Oliveira Avena (vini.avena@poli.ufrj.br) para o Seminário 3 da disciplina de Sistemas Lineares II - 2021/1 da Engenharia Eletrônica e de Computação"
      ]
    },
    {
      "cell_type": "markdown",
      "metadata": {
        "id": "6LEPcePXlGIf"
      },
      "source": [
        "# Importação das Bibliotecas"
      ]
    },
    {
      "cell_type": "code",
      "metadata": {
        "id": "SnyRsDs1kPPI",
        "colab": {
          "base_uri": "https://localhost:8080/"
        },
        "outputId": "7ae7bda3-154c-4f38-a8aa-95877b0d60b3"
      },
      "source": [
        "import numpy as np\n",
        "import matplotlib.pylab as plt\n",
        "\n",
        "import warnings\n",
        "warnings.filterwarnings(\"ignore\")\n",
        "\n",
        "!pip install control\n",
        "import control"
      ],
      "execution_count": null,
      "outputs": [
        {
          "output_type": "stream",
          "name": "stdout",
          "text": [
            "Requirement already satisfied: control in /usr/local/lib/python3.7/dist-packages (0.9.0)\n",
            "Requirement already satisfied: matplotlib in /usr/local/lib/python3.7/dist-packages (from control) (3.2.2)\n",
            "Requirement already satisfied: scipy in /usr/local/lib/python3.7/dist-packages (from control) (1.4.1)\n",
            "Requirement already satisfied: numpy in /usr/local/lib/python3.7/dist-packages (from control) (1.19.5)\n",
            "Requirement already satisfied: python-dateutil>=2.1 in /usr/local/lib/python3.7/dist-packages (from matplotlib->control) (2.8.2)\n",
            "Requirement already satisfied: kiwisolver>=1.0.1 in /usr/local/lib/python3.7/dist-packages (from matplotlib->control) (1.3.2)\n",
            "Requirement already satisfied: pyparsing!=2.0.4,!=2.1.2,!=2.1.6,>=2.0.1 in /usr/local/lib/python3.7/dist-packages (from matplotlib->control) (2.4.7)\n",
            "Requirement already satisfied: cycler>=0.10 in /usr/local/lib/python3.7/dist-packages (from matplotlib->control) (0.10.0)\n",
            "Requirement already satisfied: six in /usr/local/lib/python3.7/dist-packages (from cycler>=0.10->matplotlib->control) (1.15.0)\n"
          ]
        }
      ]
    },
    {
      "cell_type": "markdown",
      "metadata": {
        "id": "ajQWhnJF9xIp"
      },
      "source": [
        "# Espaço de Estados"
      ]
    },
    {
      "cell_type": "markdown",
      "metadata": {
        "id": "6xgBMRpwC8D5"
      },
      "source": [
        "### Resposta ao degrau"
      ]
    },
    {
      "cell_type": "code",
      "metadata": {
        "colab": {
          "base_uri": "https://localhost:8080/",
          "height": 295
        },
        "id": "u42HN_iS93zS",
        "outputId": "8c5e57f5-1771-49c5-d9d1-213eee2b1472"
      },
      "source": [
        "A = [[0, 1], [-1, -3]]\n",
        "B = [[1], [0]]\n",
        "C = [[5, 6]]\n",
        "D = [[1]]\n",
        "\n",
        "sys = control.ss(A, B, C, D)\n",
        "\n",
        "t, y = control.step_response(sys)\n",
        "plt.plot(t, y)\n",
        "plt.title(\"Resposta ao degrau\") \n",
        "plt.xlabel(\"t\") \n",
        "plt.ylabel(\"y\")\n",
        "plt.grid()\n",
        "plt.show()"
      ],
      "execution_count": null,
      "outputs": [
        {
          "output_type": "display_data",
          "data": {
            "image/png": "[encoded data removed]",
            "text/plain": [
              "<Figure size 432x288 with 1 Axes>"
            ]
          },
          "metadata": {
            "needs_background": "light"
          }
        }
      ]
    },
    {
      "cell_type": "markdown",
      "metadata": {
        "id": "2ZkxtEZvDEHw"
      },
      "source": [
        "### Função de Transferência"
      ]
    },
    {
      "cell_type": "code",
      "metadata": {
        "colab": {
          "base_uri": "https://localhost:8080/",
          "height": 55
        },
        "id": "5i6U6xZ2DJ-C",
        "outputId": "1d8e7b98-db35-44f9-90fb-13f7c8420460"
      },
      "source": [
        "import scipy.signal as signal\n",
        "from IPython.display import display\n",
        "import sympy as sy\n",
        "import control\n",
        "\n",
        "sy.init_printing()\n",
        "\n",
        "num, den = signal.ss2tf(A, B, C, D)\n",
        "\n",
        "\n",
        "H = signal.lti(num, den)\n",
        "\n",
        "s = sy.Symbol('s')\n",
        "H_s = sy.Poly(H.num, s) / sy.Poly(H.den, s)\n",
        "\n",
        "pH = sy.symbols(\"H\")\n",
        "\n",
        "display(sy.Eq(pH, H_s))"
      ],
      "execution_count": null,
      "outputs": [
        {
          "output_type": "display_data",
          "data": {
            "image/png": "[encoded data removed]",
            "text/latex": "$\\displaystyle H = \\frac{1.0 s^{2} + 8.0 s + 10.0}{1.0 s^{2} + 3.0 s + 1.0}$",
            "text/plain": [
              "         2               \n",
              "    1.0⋅s  + 8.0⋅s + 10.0\n",
              "H = ─────────────────────\n",
              "          2              \n",
              "     1.0⋅s  + 3.0⋅s + 1.0"
            ]
          },
          "metadata": {}
        }
      ]
    },
    {
      "cell_type": "markdown",
      "metadata": {
        "id": "CqnK1kcxIJ5m"
      },
      "source": [
        "#### Resposta ao degrau da para a Função de Transferência\n"
      ]
    },
    {
      "cell_type": "code",
      "metadata": {
        "colab": {
          "base_uri": "https://localhost:8080/",
          "height": 295
        },
        "id": "iX2-Taw_IUa_",
        "outputId": "d6dccd86-5f49-4db7-d074-d2bb7d525b84"
      },
      "source": [
        "Hcontrol = control.ss2tf(sys)\n",
        "\n",
        "t, y = control.step_response(Hcontrol)\n",
        "plt.plot(t, y)\n",
        "plt.title(\"Resposta ao degrau de H\")\n",
        "plt.xlabel(\"t\")\n",
        "plt.ylabel(\"y\")\n",
        "plt.grid()\n",
        "plt.show()\n"
      ],
      "execution_count": null,
      "outputs": [
        {
          "output_type": "display_data",
          "data": {
            "image/png": "[encoded data removed]",
            "text/plain": [
              "<Figure size 432x288 with 1 Axes>"
            ]
          },
          "metadata": {
            "needs_background": "light"
          }
        }
      ]
    },
    {
      "cell_type": "markdown",
      "metadata": {
        "id": "tmt3PoFSJE73"
      },
      "source": [
        "### Exemplo sistema massa-mola\n"
      ]
    },
    {
      "cell_type": "code",
      "metadata": {
        "colab": {
          "base_uri": "https://localhost:8080/",
          "height": 295
        },
        "id": "J7ITMENCJIXt",
        "outputId": "651e4282-f8e8-4c50-995b-ba64534b1695"
      },
      "source": [
        "import control\n",
        "\n",
        "# parametros do sistema\n",
        "c = 4\n",
        "k = 2\n",
        "m = 20\n",
        "F = 5\n",
        "x0 = np.array([[0],[0]])\n",
        "\n",
        "# def para o tempo de simulação\n",
        "tstart = 0\n",
        "tstop = 60\n",
        "increment = 0.1\n",
        "t = np.arange(tstart,tstop+1,increment)\n",
        "\n",
        "A = [[0, 1], [-k/m, -c/m]]\n",
        "B = [[0], [1/m]]\n",
        "C = [[1, 0]]\n",
        "D=0\n",
        "\n",
        "sys = control.ss(A, B, C, D)\n",
        "\n",
        "t, x = control.forced_response(sys, t, F)\n",
        "plt.plot(t, x)\n",
        "plt.title('Simulação do sistema massa mola') \n",
        "plt.xlabel('t')\n",
        "plt.ylabel('x(t)')\n",
        "plt.grid()\n",
        "plt.show()"
      ],
      "execution_count": null,
      "outputs": [
        {
          "output_type": "display_data",
          "data": {
            "image/png": "[encoded data removed]",
            "text/plain": [
              "<Figure size 432x288 with 1 Axes>"
            ]
          },
          "metadata": {
            "needs_background": "light"
          }
        }
      ]
    },
    {
      "cell_type": "markdown",
      "metadata": {
        "id": "Wo0TskFxu10l"
      },
      "source": [
        "# Definindo a Matriz de Entrada"
      ]
    },
    {
      "cell_type": "code",
      "metadata": {
        "colab": {
          "base_uri": "https://localhost:8080/",
          "height": 132
        },
        "id": "f7MJspN3rX_0",
        "outputId": "cb6e8686-64ad-4e48-c85e-d8300c1a2000"
      },
      "source": [
        "from sympy import Matrix\n",
        "\n",
        "myMatrix = np.array([[5, 4, 2, 1], [0, 1, -1, -1], [-1, -1, 3, 0], [1, 1, -1, 2]])\n",
        "\n",
        "myMatrixFormated = Matrix(myMatrix)\n",
        "\n",
        "print('Matriz de entrada:\\n')\n",
        "myMatrixFormated"
      ],
      "execution_count": null,
      "outputs": [
        {
          "output_type": "stream",
          "name": "stdout",
          "text": [
            "Matriz de entrada:\n",
            "\n"
          ]
        },
        {
          "output_type": "execute_result",
          "data": {
            "text/latex": "$\\displaystyle \\left[\\begin{matrix}5 & 4 & 2 & 1\\\\0 & 1 & -1 & -1\\\\-1 & -1 & 3 & 0\\\\1 & 1 & -1 & 2\\end{matrix}\\right]$",
            "text/plain": [
              "Matrix([\n",
              "[ 5,  4,  2,  1],\n",
              "[ 0,  1, -1, -1],\n",
              "[-1, -1,  3,  0],\n",
              "[ 1,  1, -1,  2]])"
            ]
          },
          "metadata": {},
          "execution_count": 52
        }
      ]
    },
    {
      "cell_type": "markdown",
      "metadata": {
        "id": "3ZPIzn15xVpW"
      },
      "source": [
        "# Teorema de Cayley Hamilton"
      ]
    },
    {
      "cell_type": "markdown",
      "metadata": {
        "id": "d-ePMV7Ixgd3"
      },
      "source": [
        "### Obtendo o Polinômio Característico"
      ]
    },
    {
      "cell_type": "code",
      "metadata": {
        "colab": {
          "base_uri": "https://localhost:8080/"
        },
        "id": "yZV3ddsixfIN",
        "outputId": "a21c50d2-f172-4b02-96e2-aebde181ea1e"
      },
      "source": [
        "from scipy import array\n",
        "from scipy.linalg import funm\n",
        "from sympy import Matrix\n",
        "\n",
        "\n",
        "print('Pa(λ) = det(λI-A) \\n')\n",
        "\n",
        "print('Pa(λ) =', myMatrixFormated.charpoly().as_expr())\n",
        "\n"
      ],
      "execution_count": null,
      "outputs": [
        {
          "output_type": "stream",
          "name": "stdout",
          "text": [
            "Pa(λ) = det(λI-A) \n",
            "\n",
            "Pa(λ) = lambda**4 - 11*lambda**3 + 42*lambda**2 - 64*lambda + 32\n"
          ]
        }
      ]
    },
    {
      "cell_type": "markdown",
      "metadata": {
        "id": "OjaNCWmJ2RMP"
      },
      "source": [
        "### Obtendo os Autovalores\n"
      ]
    },
    {
      "cell_type": "code",
      "metadata": {
        "colab": {
          "base_uri": "https://localhost:8080/"
        },
        "id": "X-wkgFa02Ytv",
        "outputId": "06ed8e74-539f-4e5d-eb8d-8df79e91cae2"
      },
      "source": [
        "import scipy.linalg as la\n",
        "\n",
        "results = la.eig(myMatrix)\n",
        "\n",
        "print('Autovalores de A: ', results[0])"
      ],
      "execution_count": null,
      "outputs": [
        {
          "output_type": "stream",
          "name": "stdout",
          "text": [
            "Autovalores de A:  [4.+0.j 4.+0.j 1.+0.j 2.+0.j]\n"
          ]
        }
      ]
    },
    {
      "cell_type": "markdown",
      "metadata": {
        "id": "h4Hm5_V2rM5n"
      },
      "source": [
        "# Forma Canônica de Jordan"
      ]
    },
    {
      "cell_type": "markdown",
      "metadata": {
        "id": "fFG4yWtuvWVI"
      },
      "source": [
        "### Matriz P: Transformação Linear com autovetores concatenados"
      ]
    },
    {
      "cell_type": "code",
      "metadata": {
        "colab": {
          "base_uri": "https://localhost:8080/",
          "height": 149
        },
        "id": "cpKapE_gvvoY",
        "outputId": "6da3f157-93e3-4249-b35e-414735d9f5e2"
      },
      "source": [
        "\n",
        "P, J = myMatrixFormated.jordan_form()\n",
        "\n",
        "print('Matriz de autovetores:\\n\\n P = ')\n",
        "P"
      ],
      "execution_count": null,
      "outputs": [
        {
          "output_type": "stream",
          "name": "stdout",
          "text": [
            "Matriz de autovetores:\n",
            "\n",
            " P = \n"
          ]
        },
        {
          "output_type": "execute_result",
          "data": {
            "text/latex": "$\\displaystyle \\left[\\begin{matrix}-1 & 1 & 1 & 1\\\\1 & -1 & 0 & 0\\\\0 & 0 & -1 & 0\\\\0 & 1 & 1 & 0\\end{matrix}\\right]$",
            "text/plain": [
              "Matrix([\n",
              "[-1,  1,  1, 1],\n",
              "[ 1, -1,  0, 0],\n",
              "[ 0,  0, -1, 0],\n",
              "[ 0,  1,  1, 0]])"
            ]
          },
          "metadata": {},
          "execution_count": 55
        }
      ]
    },
    {
      "cell_type": "markdown",
      "metadata": {
        "id": "rYuGJ6B7v-ir"
      },
      "source": [
        "### Forma Canônica de Jordan"
      ]
    },
    {
      "cell_type": "code",
      "metadata": {
        "colab": {
          "base_uri": "https://localhost:8080/",
          "height": 149
        },
        "id": "XcKxbziqwGO_",
        "outputId": "863f803e-935e-48b7-8460-785d234ff7b2"
      },
      "source": [
        "\n",
        "print('Forma canônica de Jordan:\\n\\n J = ')\n",
        "J"
      ],
      "execution_count": null,
      "outputs": [
        {
          "output_type": "stream",
          "name": "stdout",
          "text": [
            "Forma canônica de Jordan:\n",
            "\n",
            " J = \n"
          ]
        },
        {
          "output_type": "execute_result",
          "data": {
            "text/latex": "$\\displaystyle \\left[\\begin{matrix}1 & 0 & 0 & 0\\\\0 & 2 & 0 & 0\\\\0 & 0 & 4 & 1\\\\0 & 0 & 0 & 4\\end{matrix}\\right]$",
            "text/plain": [
              "Matrix([\n",
              "[1, 0, 0, 0],\n",
              "[0, 2, 0, 0],\n",
              "[0, 0, 4, 1],\n",
              "[0, 0, 0, 4]])"
            ]
          },
          "metadata": {},
          "execution_count": 56
        }
      ]
    }
  ]
}